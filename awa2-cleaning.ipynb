{
 "cells": [
  {
   "cell_type": "code",
   "execution_count": 5,
   "metadata": {},
   "outputs": [],
   "source": [
    "import pandas as pd\n",
    "import numpy as np\n",
    "import os\n",
    "from tensorflow.keras.preprocessing.image import ImageDataGenerator"
   ]
  },
  {
   "cell_type": "code",
   "execution_count": 15,
   "metadata": {},
   "outputs": [
    {
     "name": "stdout",
     "output_type": "stream",
     "text": [
      "['antelope', 'bat', 'beaver', 'blue+whale', 'bobcat', 'buffalo', 'chihuahua', 'chimpanzee', 'collie', 'cow', 'dalmatian', 'deer', 'dolphin', 'elephant', 'fox', 'german+shepherd', 'giant+panda', 'giraffe', 'gorilla', 'grizzly+bear', 'hamster', 'hippopotamus', 'horse', 'humpback+whale', 'killer+whale', 'leopard', 'lion', 'mole', 'moose', 'mouse', 'otter', 'ox', 'persian+cat', 'pig', 'polar+bear', 'rabbit', 'raccoon', 'rat', 'rhinoceros', 'seal', 'sheep', 'siamese+cat', 'skunk', 'spider+monkey', 'squirrel', 'tiger', 'walrus', 'weasel', 'wolf', 'zebra']\n"
     ]
    }
   ],
   "source": [
    "classes = []\n",
    "for root, dirs, files in os.walk('./AwA2/AwA2-data/Animals_with_Attributes2/JPEGImages/', topdown=False):\n",
    "    cls = root.split('/')[-1]\n",
    "    if cls != '':\n",
    "        classes.append(cls)\n",
    "print(classes)"
   ]
  },
  {
   "cell_type": "code",
   "execution_count": null,
   "metadata": {},
   "outputs": [
    {
     "name": "stdout",
     "output_type": "stream",
     "text": [
      "Found 1046 images belonging to 1 classes.\n",
      "Found 383 images belonging to 1 classes.\n",
      "Found 193 images belonging to 1 classes.\n",
      "Found 174 images belonging to 1 classes.\n",
      "Found 630 images belonging to 1 classes.\n",
      "Found 895 images belonging to 1 classes.\n",
      "Found 567 images belonging to 1 classes.\n",
      "Found 728 images belonging to 1 classes.\n",
      "Found 1028 images belonging to 1 classes.\n",
      "Found 1338 images belonging to 1 classes.\n",
      "Found 549 images belonging to 1 classes.\n",
      "Found 1344 images belonging to 1 classes.\n",
      "Found 946 images belonging to 1 classes.\n",
      "Found 1038 images belonging to 1 classes.\n",
      "Found 664 images belonging to 1 classes.\n",
      "Found 1033 images belonging to 1 classes.\n",
      "Found 874 images belonging to 1 classes.\n",
      "Found 1202 images belonging to 1 classes.\n",
      "Found 872 images belonging to 1 classes.\n",
      "Found 852 images belonging to 1 classes.\n",
      "Found 779 images belonging to 1 classes.\n",
      "Found 684 images belonging to 1 classes.\n",
      "Found 1645 images belonging to 1 classes.\n",
      "Found 709 images belonging to 1 classes.\n",
      "Found 291 images belonging to 1 classes.\n",
      "Found 720 images belonging to 1 classes.\n",
      "Found 1019 images belonging to 1 classes.\n",
      "Found 100 images belonging to 1 classes.\n",
      "Found 704 images belonging to 1 classes.\n",
      "Found 185 images belonging to 1 classes.\n",
      "Found 758 images belonging to 1 classes.\n",
      "Found 728 images belonging to 1 classes.\n",
      "Found 747 images belonging to 1 classes.\n",
      "Found 713 images belonging to 1 classes.\n",
      "Found 868 images belonging to 1 classes.\n",
      "Found 1088 images belonging to 1 classes.\n",
      "Found 512 images belonging to 1 classes.\n",
      "Found 310 images belonging to 1 classes.\n",
      "Found 696 images belonging to 1 classes.\n",
      "Found 988 images belonging to 1 classes.\n",
      "Found 1420 images belonging to 1 classes.\n",
      "Found 500 images belonging to 1 classes.\n",
      "Found 188 images belonging to 1 classes.\n",
      "Found 291 images belonging to 1 classes.\n",
      "Found 1200 images belonging to 1 classes.\n",
      "Found 877 images belonging to 1 classes.\n",
      "Found 215 images belonging to 1 classes.\n",
      "Found 272 images belonging to 1 classes.\n",
      "Found 589 images belonging to 1 classes.\n",
      "Found 1170 images belonging to 1 classes.\n"
     ]
    }
   ],
   "source": [
    "datagen=ImageDataGenerator(rescale=1./255)\n",
    "\n",
    "for cls in classes:\n",
    "    \n",
    "    os.mkdir('./AwA2/AwA2-data/Animals_with_Attributes2/JPEGImagesCleaned/'+cls)\n",
    "    \n",
    "    generator = datagen.flow_from_directory(\n",
    "        directory='./AwA2/AwA2-data/Animals_with_Attributes2/JPEGImages/',\n",
    "        save_to_dir='./AwA2/AwA2-data/Animals_with_Attributes2/JPEGImagesCleaned/'+cls,\n",
    "        target_size=(64, 64),\n",
    "        color_mode=\"rgb\",\n",
    "        class_mode=\"categorical\",\n",
    "        classes=[cls]\n",
    "    )\n",
    "    \n",
    "    generator.batch_size = generator.n\n",
    "    generator.next()"
   ]
  },
  {
   "cell_type": "code",
   "execution_count": null,
   "metadata": {},
   "outputs": [],
   "source": []
  }
 ],
 "metadata": {
  "kernelspec": {
   "display_name": "Python 3",
   "language": "python",
   "name": "python3"
  },
  "language_info": {
   "codemirror_mode": {
    "name": "ipython",
    "version": 3
   },
   "file_extension": ".py",
   "mimetype": "text/x-python",
   "name": "python",
   "nbconvert_exporter": "python",
   "pygments_lexer": "ipython3",
   "version": "3.7.7"
  }
 },
 "nbformat": 4,
 "nbformat_minor": 4
}
